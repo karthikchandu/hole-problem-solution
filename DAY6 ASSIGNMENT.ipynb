{
 "cells": [
  {
   "cell_type": "code",
   "execution_count": null,
   "metadata": {},
   "outputs": [],
   "source": [
    "#to find the total number of holes in the text:\n",
    "\n",
    "\n",
    "def fun(p):\n",
    "    m = len(p)\n",
    "    count=0\n",
    "    for j in range(m):\n",
    "        if 'A'==p[j]:\n",
    "            j=j+1\n",
    "            count=count+1\n",
    "        elif'B'==p[j]:\n",
    "            j =j+1\n",
    "            count=count+2\n",
    "        elif'D'==p[j]:\n",
    "            j =j+1\n",
    "            count=count+1\n",
    "        elif'O'==p[j]:\n",
    "            j =j+1\n",
    "            count=count+1\n",
    "        elif'P'==p[j]:\n",
    "            j =j+1\n",
    "            count=count+1 \n",
    "        elif'Q'==p[j]:\n",
    "            j =j+1\n",
    "            count=count+1\n",
    "        elif'R'==p[j]:\n",
    "            j =j+1\n",
    "            count=count+1\n",
    "            continue\n",
    "            \n",
    "           \n",
    "    print(\"The Total no of Holes in the text is \",count)\n",
    "import re\n",
    "p = re.findall('[a-z]',input(\"enter the text to find the holes \"))\n",
    "\n",
    "fun(p)\n"
   ]
  },
  {
   "cell_type": "code",
   "execution_count": null,
   "metadata": {},
   "outputs": [],
   "source": [
    "\n"
   ]
  },
  {
   "cell_type": "code",
   "execution_count": null,
   "metadata": {},
   "outputs": [],
   "source": []
  },
  {
   "cell_type": "code",
   "execution_count": null,
   "metadata": {},
   "outputs": [],
   "source": []
  },
  {
   "cell_type": "code",
   "execution_count": null,
   "metadata": {},
   "outputs": [],
   "source": []
  }
 ],
 "metadata": {
  "kernelspec": {
   "display_name": "Python 3",
   "language": "python",
   "name": "python3"
  },
  "language_info": {
   "codemirror_mode": {
    "name": "ipython",
    "version": 3
   },
   "file_extension": ".py",
   "mimetype": "text/x-python",
   "name": "python",
   "nbconvert_exporter": "python",
   "pygments_lexer": "ipython3",
   "version": "3.7.4"
  }
 },
 "nbformat": 4,
 "nbformat_minor": 2
}
